{
 "cells": [
  {
   "cell_type": "markdown",
   "id": "0cb509ed-605c-4f5c-9b9f-9ce3ce62e607",
   "metadata": {},
   "source": [
    "# Assignment 7-Mar \"Stats-2\""
   ]
  },
  {
   "cell_type": "code",
   "execution_count": 1,
   "id": "7cbf08d5-b62a-41a5-b9cb-a3a9a9d94c61",
   "metadata": {},
   "outputs": [],
   "source": [
    "# Q1. What are the three measures of central tendency?"
   ]
  },
  {
   "cell_type": "code",
   "execution_count": null,
   "id": "214c8228-2de0-4b3c-af1f-6eb0f957e0a4",
   "metadata": {},
   "outputs": [],
   "source": [
    "# Mean(Average), Median, Mode"
   ]
  },
  {
   "cell_type": "code",
   "execution_count": null,
   "id": "e62896a3-ea33-4e55-a81d-ceb71b30ba3e",
   "metadata": {},
   "outputs": [],
   "source": []
  },
  {
   "cell_type": "code",
   "execution_count": 2,
   "id": "8e38777d-20c7-4550-9841-71899e4c0024",
   "metadata": {},
   "outputs": [],
   "source": [
    "# Q2. What is the difference between the mean, median, and mode? How are they\n",
    "# used to measure the central tendency of a dataset?"
   ]
  },
  {
   "cell_type": "code",
   "execution_count": null,
   "id": "0a94a92a-404a-47a4-a610-63cf3ad015dc",
   "metadata": {},
   "outputs": [],
   "source": [
    "# The arithmetic mean is found by adding the numbers and dividing the sum by the number \n",
    "# of numbers in the list. This is what is most often meant by an average.\n",
    "\n",
    "# The median is the middle value in a list ordered from smallest to largest. \n",
    "\n",
    "# The mode is the most frequently occurring value on the list."
   ]
  },
  {
   "cell_type": "code",
   "execution_count": 4,
   "id": "fa773ba0-cc4c-4673-b632-a1bd2c66bf2d",
   "metadata": {},
   "outputs": [],
   "source": [
    "# Q3. Measure the three measures of central tendency for the given height data:\n",
    "\n",
    "#  [178,177,176,177,178.2,178,175,179,180,175,178.9,176.2,177,172.5,178,176.5]"
   ]
  },
  {
   "cell_type": "code",
   "execution_count": 3,
   "id": "e2ee7498-019d-4e95-ac7f-3618257977c9",
   "metadata": {},
   "outputs": [],
   "source": [
    "l =  [178,177,176,177,178.2,178,175,179,180,175,178.9,176.2,177,172.5,178,176.5]"
   ]
  },
  {
   "cell_type": "code",
   "execution_count": 7,
   "id": "2188fe81-606b-4761-bffa-d9e91f8f8542",
   "metadata": {},
   "outputs": [
    {
     "data": {
      "text/plain": [
       "2832.3"
      ]
     },
     "execution_count": 7,
     "metadata": {},
     "output_type": "execute_result"
    }
   ],
   "source": [
    "s = sum(l)\n",
    "s"
   ]
  },
  {
   "cell_type": "code",
   "execution_count": 11,
   "id": "16d74cca-6f2b-46a2-9503-c5937d92a421",
   "metadata": {},
   "outputs": [
    {
     "data": {
      "text/plain": [
       "177.01875"
      ]
     },
     "execution_count": 11,
     "metadata": {},
     "output_type": "execute_result"
    }
   ],
   "source": [
    "mean = s/16\n",
    "mean"
   ]
  },
  {
   "cell_type": "code",
   "execution_count": 12,
   "id": "b777c947-e099-49de-988c-860251dfcfac",
   "metadata": {},
   "outputs": [],
   "source": [
    "l =  (178,177,176,177,178.2,178,175,179,180,175,178.9,176.2,177,172.5,178,176.5)"
   ]
  },
  {
   "cell_type": "code",
   "execution_count": 18,
   "id": "81f0221c-1b02-4e60-9ffe-310f5ca1e2cf",
   "metadata": {},
   "outputs": [
    {
     "data": {
      "text/plain": [
       "177.01875"
      ]
     },
     "execution_count": 18,
     "metadata": {},
     "output_type": "execute_result"
    }
   ],
   "source": [
    "import numpy as np\n",
    "mean = np.mean(l)\n",
    "mean\n"
   ]
  },
  {
   "cell_type": "code",
   "execution_count": 20,
   "id": "3d086988-19cf-4c68-a08a-33a8ad64db04",
   "metadata": {},
   "outputs": [
    {
     "data": {
      "text/plain": [
       "177.0"
      ]
     },
     "execution_count": 20,
     "metadata": {},
     "output_type": "execute_result"
    }
   ],
   "source": [
    "Median = np.median(l)\n",
    "Median"
   ]
  },
  {
   "cell_type": "code",
   "execution_count": null,
   "id": "f4f6d711-d0b3-4f14-b870-492fc74e00c6",
   "metadata": {},
   "outputs": [],
   "source": [
    "# Mode = 178 (3 times occured which is most)"
   ]
  },
  {
   "cell_type": "code",
   "execution_count": null,
   "id": "11dfdfbf-65f1-4557-aa41-eb77d28773a0",
   "metadata": {},
   "outputs": [],
   "source": [
    "from scipy import stats \n",
    "Mode = stats.mode(l)\n",
    "Mode"
   ]
  },
  {
   "cell_type": "code",
   "execution_count": null,
   "id": "5556fe84-afd9-4ea0-8e81-eb9bf68f770f",
   "metadata": {},
   "outputs": [],
   "source": []
  },
  {
   "cell_type": "code",
   "execution_count": 32,
   "id": "22540be6-6f97-4232-9c64-d10720500d8e",
   "metadata": {},
   "outputs": [],
   "source": [
    "# Q4. Find the standard deviation for the given data:\n",
    "\n",
    "# [178,177,176,177,178.2,178,175,179,180,175,178.9,176.2,177,172.5,178,176.5]"
   ]
  },
  {
   "cell_type": "code",
   "execution_count": 33,
   "id": "b2fe5762-58b6-460c-837e-1cb6f87aa332",
   "metadata": {},
   "outputs": [
    {
     "data": {
      "text/plain": [
       "1.7885814036548633"
      ]
     },
     "execution_count": 33,
     "metadata": {},
     "output_type": "execute_result"
    }
   ],
   "source": [
    "import numpy as np\n",
    "l = [178,177,176,177,178.2,178,175,179,180,175,178.9,176.2,177,172.5,178,176.5]\n",
    "np.std(l)"
   ]
  },
  {
   "cell_type": "code",
   "execution_count": null,
   "id": "ae667944-a58d-4696-a36f-f5e46e49ef77",
   "metadata": {},
   "outputs": [],
   "source": []
  },
  {
   "cell_type": "code",
   "execution_count": 34,
   "id": "4ae5962c-5273-4039-8dce-634d5fd71ae6",
   "metadata": {},
   "outputs": [],
   "source": [
    "# Q5. How are measures of dispersion such as range, variance, and standard deviation used to describe \n",
    "# the spread of a dataset? Provide an example."
   ]
  },
  {
   "cell_type": "code",
   "execution_count": null,
   "id": "702cc5b4-eedf-4d62-8a40-9d72c150052c",
   "metadata": {},
   "outputs": [],
   "source": [
    "#  Standard deviation - We can use it to determine the proportion of the values that fall within a specified number\n",
    "# of standard deviations from the mean. For example, in a normal distribution, 68% of the values will\n",
    "# fall within +/- 1 standard deviation from the mean.\n",
    "\n",
    "# Range - The range is the difference between the largest and the smallest observation in the data.\n",
    "\n",
    "# Variance - variance is a measure of dispersion that takes into account the spread of all data points\n",
    "# in a data set. It's the measure of dispersion the most often used, along with the standard deviation,\n",
    "# which is simply the square root of the variance."
   ]
  },
  {
   "cell_type": "code",
   "execution_count": null,
   "id": "15ea946d-f11b-4d54-81f6-d5142f84cc60",
   "metadata": {},
   "outputs": [],
   "source": []
  },
  {
   "cell_type": "code",
   "execution_count": 35,
   "id": "b515ff75-c24d-4c5c-a99f-d5b25d0159ab",
   "metadata": {},
   "outputs": [],
   "source": [
    "# Q6. What is a Venn diagram?"
   ]
  },
  {
   "cell_type": "code",
   "execution_count": null,
   "id": "201d5bb9-917f-4c36-b59b-4eab546d40e3",
   "metadata": {},
   "outputs": [],
   "source": [
    "# A Venn diagram is a widely used diagram style that shows the logical relation between sets, popularized.\n",
    "\n",
    "# A Venn diagram illustrates the relationships between two or more data sets. Venn diagrams are\n",
    "# especially useful for highlighting similarities and differences and are commonly used to compare \n",
    "# and contrast the characteristics of different data sets. In a Venn diagram, circles are \n",
    "# used to represent each data set."
   ]
  },
  {
   "cell_type": "code",
   "execution_count": null,
   "id": "f469a19c-9b83-4a35-be7a-401d7a58b702",
   "metadata": {},
   "outputs": [],
   "source": []
  },
  {
   "cell_type": "code",
   "execution_count": null,
   "id": "fd744bb8-8235-4bd7-baf4-a943b7b414be",
   "metadata": {},
   "outputs": [],
   "source": [
    "# Q7. For the two given sets A = (2,3,4,5,6,7) & B = (0,2,6,8,10). Find:\n",
    "\n",
    "(i) \tA ⋂ B\n",
    "\n",
    "(ii)\tA ⋃ B"
   ]
  },
  {
   "cell_type": "code",
   "execution_count": 36,
   "id": "cc77d5e3-46ea-4cac-9dc7-5c226c47f42f",
   "metadata": {},
   "outputs": [],
   "source": [
    "A = (2,3,4,5,6,7) \n",
    "B = (0,2,6,8,10)"
   ]
  },
  {
   "cell_type": "code",
   "execution_count": null,
   "id": "9905ef1c-aed3-4739-9212-5db220e1bfe8",
   "metadata": {},
   "outputs": [],
   "source": [
    "A intersection B =  (2,6,)"
   ]
  },
  {
   "cell_type": "code",
   "execution_count": null,
   "id": "34d6a387-8992-41e7-bed0-f1e50cd3caed",
   "metadata": {},
   "outputs": [],
   "source": [
    "A union B =  (0,2,3,4,5,6,7,8,10)"
   ]
  },
  {
   "cell_type": "code",
   "execution_count": null,
   "id": "87e2163e-1e07-49f2-be40-ea5a70714d35",
   "metadata": {},
   "outputs": [],
   "source": []
  },
  {
   "cell_type": "code",
   "execution_count": 41,
   "id": "6de0b202-db22-42e0-b16e-fa56fa664da1",
   "metadata": {},
   "outputs": [],
   "source": [
    "# Q8. What do you understand about skewness in data?"
   ]
  },
  {
   "cell_type": "code",
   "execution_count": null,
   "id": "d2008885-d45a-43a8-87b9-02ec2bcd44e4",
   "metadata": {},
   "outputs": [],
   "source": [
    "# Skewness is a measurement of the distortion of symmetrical distribution or asymmetry in a data set.\n",
    "# Skewness is demonstrated on a bell curve when data points are not distributed symmetrically to \n",
    "# the left and right sides of the median on a bell curve."
   ]
  },
  {
   "cell_type": "code",
   "execution_count": null,
   "id": "6ac57cb4-fc66-443a-a811-8c5dddf39aec",
   "metadata": {},
   "outputs": [],
   "source": []
  },
  {
   "cell_type": "code",
   "execution_count": 42,
   "id": "50fc4b2d-1a94-4678-8028-58ce2b52d009",
   "metadata": {},
   "outputs": [],
   "source": [
    "# Q9. If a data is right skewed then what will be the position of median with respect to mean?"
   ]
  },
  {
   "cell_type": "code",
   "execution_count": null,
   "id": "1935999b-b6cf-434b-addb-b4ec14d88dd0",
   "metadata": {},
   "outputs": [],
   "source": [
    "# If the distribution of data is skewed to the right, the mode is often less than the median, which is less than the mean.\n",
    "\n",
    "# If data is right skewed then ; Mean> Median> Mode\n",
    "# Median will be left side of mean.\n"
   ]
  },
  {
   "cell_type": "code",
   "execution_count": null,
   "id": "7a4e3c8f-be25-485c-81bc-e3faeb27ce72",
   "metadata": {},
   "outputs": [],
   "source": []
  },
  {
   "cell_type": "code",
   "execution_count": null,
   "id": "02964f23-1e29-4263-bd85-a949181fe397",
   "metadata": {},
   "outputs": [],
   "source": [
    "# Q10. Explain the difference between covariance and correlation. How are these measures used in statistical analysis?"
   ]
  },
  {
   "cell_type": "code",
   "execution_count": null,
   "id": "82d88534-b466-48fe-9771-2f9254d1721b",
   "metadata": {},
   "outputs": [],
   "source": [
    "# Covariance is an indicator of the extent to which 2 random variables are dependent on each other.\n",
    "# A higher number denotes higher dependency. \n",
    "# Correlation is a statistical measure that indicates how strongly two variables are related.\n",
    "# The value of covariance lies in the range of -∞ and +∞.\n",
    "\n",
    "\n",
    "#  Both covariance and correlation measure the relationship and the dependency between two variables.\n",
    "# Covariance indicates the direction of the linear relationship between variables while correlation\n",
    "# measures both the strength and direction of the linear relationship between two variables."
   ]
  },
  {
   "cell_type": "code",
   "execution_count": null,
   "id": "65ff791d-fc7b-464f-89d9-5d68a6194978",
   "metadata": {},
   "outputs": [],
   "source": []
  },
  {
   "cell_type": "code",
   "execution_count": 43,
   "id": "deacbe99-e980-44ec-9951-95b812a8f74d",
   "metadata": {},
   "outputs": [],
   "source": [
    "# Q11. What is the formula for calculating the sample mean? Provide an example calculation for a dataset."
   ]
  },
  {
   "cell_type": "code",
   "execution_count": null,
   "id": "b282d743-7abe-422b-a3f4-2b2bce6740b6",
   "metadata": {},
   "outputs": [],
   "source": [
    "Sample Mean = ( Sum of terms) /(no. of terms)\n",
    "l = [1,2,3,4]\n",
    "Sample mean = 10/4 = 2.5\n"
   ]
  },
  {
   "cell_type": "code",
   "execution_count": 44,
   "id": "43033046-3324-4bb6-8323-c27d602eebe5",
   "metadata": {},
   "outputs": [],
   "source": [
    "# Q12. For a normal distribution data what is the relationship between its measure of central tendency?"
   ]
  },
  {
   "cell_type": "code",
   "execution_count": null,
   "id": "33c95ba5-4ae8-4119-b316-1683463a668f",
   "metadata": {},
   "outputs": [],
   "source": [
    "# In a Normal /symmetrical distribution, the mean, median, and mode are all equal. In these cases, the mean is often\n",
    "# the preferred measure of central tendency."
   ]
  },
  {
   "cell_type": "code",
   "execution_count": null,
   "id": "c1cad653-77a0-4fac-932f-eed28208bca4",
   "metadata": {},
   "outputs": [],
   "source": []
  },
  {
   "cell_type": "code",
   "execution_count": null,
   "id": "54d21814-c180-49f2-8e33-fd8538cbff37",
   "metadata": {},
   "outputs": [],
   "source": [
    "# Q13. How is covariance different from correlation?"
   ]
  },
  {
   "cell_type": "code",
   "execution_count": null,
   "id": "a06c0bbe-1633-4f57-bfa6-81f57801936b",
   "metadata": {},
   "outputs": [],
   "source": [
    "# Covariance and correlation are two terms that are opposed and are both used \n",
    "# in statistics and regression analysis. Covariance shows us how the two variables differ,\n",
    "# whereas correlation shows you how the two variables are related.\n",
    "\n",
    "# The value of covariance lies in the range of -∞ and +∞.\n",
    "# Correlation is limited to values between the range -1 and +1.\n",
    "\n",
    "# Covariance is an indicator of how two random variables are dependent on each other.\n",
    "# A higher number denotes higher dependency.\n",
    "\n",
    "# Correlation indicates how strongly these two variables are related, provided other conditions are constant.\n",
    "# The maximum value is +1, representing a perfect dependent relationship.\n"
   ]
  },
  {
   "cell_type": "code",
   "execution_count": null,
   "id": "f29672e8-8303-4a87-a10c-bffd483827d5",
   "metadata": {},
   "outputs": [],
   "source": []
  },
  {
   "cell_type": "code",
   "execution_count": null,
   "id": "3eb06b24-382a-4542-bece-41b90b35342e",
   "metadata": {},
   "outputs": [],
   "source": [
    "# Q14. How do outliers affect measures of central tendency and dispersion? Provide an example."
   ]
  },
  {
   "cell_type": "code",
   "execution_count": null,
   "id": "a0d53bd0-0472-4cac-a0a2-73253bc4ba94",
   "metadata": {},
   "outputs": [],
   "source": [
    "# Outliers Measures of central tendency and dispersion can give misleading impressions\n",
    "# of a data set if the set contains one or more outliers. An outlier is a value that is\n",
    "# much greater than or much less than most of the other values in a data set. \n",
    "\n",
    "# Mean is most effected by outliers.\n",
    "# Median is less effeted by outliers."
   ]
  },
  {
   "cell_type": "code",
   "execution_count": 46,
   "id": "cb0dbf45-113d-4a1b-947f-31f3d75d351f",
   "metadata": {},
   "outputs": [
    {
     "data": {
      "text/plain": [
       "38.5"
      ]
     },
     "execution_count": 46,
     "metadata": {},
     "output_type": "execute_result"
    }
   ],
   "source": [
    "l = [11,22,33,44,55,66]\n",
    "import numpy as np\n",
    "np.mean(l)"
   ]
  },
  {
   "cell_type": "code",
   "execution_count": 47,
   "id": "afc5514c-25b0-489a-964d-514e7abdfc59",
   "metadata": {},
   "outputs": [
    {
     "data": {
      "text/plain": [
       "38.5"
      ]
     },
     "execution_count": 47,
     "metadata": {},
     "output_type": "execute_result"
    }
   ],
   "source": [
    "np.median(l)"
   ]
  },
  {
   "cell_type": "code",
   "execution_count": 48,
   "id": "d7dc6dd8-8d5e-4b01-b168-8ea482f1d1ba",
   "metadata": {},
   "outputs": [
    {
     "data": {
      "text/plain": [
       "403.875"
      ]
     },
     "execution_count": 48,
     "metadata": {},
     "output_type": "execute_result"
    }
   ],
   "source": [
    "l = [11,22,33,44,55,66,1000,2000]\n",
    "import numpy as np\n",
    "np.mean(l)"
   ]
  },
  {
   "cell_type": "code",
   "execution_count": 50,
   "id": "ca960a1c-12e2-408a-8d34-b10ca15613d8",
   "metadata": {},
   "outputs": [
    {
     "data": {
      "text/plain": [
       "49.5"
      ]
     },
     "execution_count": 50,
     "metadata": {},
     "output_type": "execute_result"
    }
   ],
   "source": [
    "np.median(l)"
   ]
  },
  {
   "cell_type": "code",
   "execution_count": null,
   "id": "eda455b6-ecc5-4962-897a-b36178e4f508",
   "metadata": {},
   "outputs": [],
   "source": [
    "3 The End "
   ]
  }
 ],
 "metadata": {
  "kernelspec": {
   "display_name": "Python 3 (ipykernel)",
   "language": "python",
   "name": "python3"
  },
  "language_info": {
   "codemirror_mode": {
    "name": "ipython",
    "version": 3
   },
   "file_extension": ".py",
   "mimetype": "text/x-python",
   "name": "python",
   "nbconvert_exporter": "python",
   "pygments_lexer": "ipython3",
   "version": "3.10.6"
  }
 },
 "nbformat": 4,
 "nbformat_minor": 5
}
